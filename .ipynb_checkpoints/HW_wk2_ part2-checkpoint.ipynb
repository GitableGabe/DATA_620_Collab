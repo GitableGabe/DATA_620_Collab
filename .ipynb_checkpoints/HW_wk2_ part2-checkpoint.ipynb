{
 "cells": [
  {
   "cell_type": "markdown",
   "id": "2152aabd",
   "metadata": {},
   "source": [
    "# Week 2 Part 2 - Assignment Centrality Measures"
   ]
  },
  {
   "cell_type": "markdown",
   "id": "6ece937e-3ed2-4c1b-9b07-a5d0d3b354ed",
   "metadata": {},
   "source": [
    "                                                \n",
    "## DATA SCIENCE TEAM: Gabriel Campos, Victor Torres, Kossi Akplaka, Heleine Fouda                                                \n",
    "## DATA 620  \n",
    "## Prof: Alain Ledon.\n",
    "\n",
    "### Instructions\n",
    "Centrality measures can be used to predict (positive or negative) outcomes for a node.\n",
    "\n",
    "Your task in this week’s assignment is to identify an interesting set of network data that is available on the web (either through web scraping or web APIs) that could be used for analyzing and comparing centrality measures across nodes.  As an additional constraint, there should be at least one categorical variable available for each node (such as “Male” or “Female”; “Republican”, “Democrat,” or “Undecided”, etc.)\n",
    "\n",
    "In addition to identifying your data source, you should create a high level plan that describes how you would load the data for analysis, and describe a hypothetical outcome that could be predicted from comparing degree centrality across categorical groups. "
   ]
  },
  {
   "cell_type": "markdown",
   "id": "c289404d",
   "metadata": {},
   "source": [
    "### Related project description\n",
    "\n",
    "**Project 1**\n",
    "*Due June 16 at 11:59 PM*\n",
    "*Available on Mar 26, 2024 9:00 AM. Access restricted before availability starts.\n",
    "For your first project, you are asked to*\n",
    "\n",
    "1. Identify and load a network dataset that has some categorical information available for each node.\n",
    "2. For each of the nodes in the dataset, calculate degree centrality and eigenvector centrality.\n",
    "3. Compare your centrality measures across your categorical groups.\n",
    "\n",
    "For example, using the dataset from a study of romantic relationships among high school students in Columbus, Ohio [http://researchnews.osu.edu/archive/chains.htm], you might want to determine if there are any differences in your calculated centrality measures between the two sexes.  You might use a t-test or another statistical measure to support your findings.\n",
    "\n",
    "You may work in a small group.  Your project should be delivered in an Jupyter Notebook, and posted in GitHub.  Your project is due end of day Sunday. You and your team should created a video presentation about your project. You should be ready to present your project in our Meet-up."
   ]
  },
  {
   "cell_type": "markdown",
   "id": "74720179",
   "metadata": {},
   "source": [
    "### Data\n",
    "\n",
    "For this assignment, we will be using the dataset of the **MUSAE Facebook Page-Page Network**. Data is located on [kaggle.com](https://www.kaggle.com/datasets/rozemberczki/musae-facebook-pagepage-network) \n",
    "\n",
    "The dataset when imported provides 3 spreadsheets\n",
    "\n",
    "- musae_facebook_edges\n",
    "    + contains attributes *id_1* and *id_2*\n",
    "    + both attribute values are categorical and numeric\n",
    "- musae_facebook_features\n",
    "    + contains attribute *node_id* nad *feature_id*\n",
    "    + both attribute values are categorical and numeric\n",
    "- musae_facebook_target\n",
    "    + contains attributes:\n",
    "        - id : Internal ID. *categorical, numeric.*\n",
    "        - facebook_id: Facebook ID of the page. *categorical and numeric*\n",
    "        - page_name: Name of the Facebook page. *String*\n",
    "        - page_type: Type of the Facebook page. *String*"
   ]
  },
  {
   "cell_type": "markdown",
   "id": "5a515154-7d28-42f0-b7fd-4062050ab89b",
   "metadata": {},
   "source": [
    "\n",
    "## High Level approach\n",
    "\n",
    " + Load data into Jupyter notebook.\n",
    " + Explore data to understand the structure and contents.\n",
    " + Convert edges to a graph for further exploration of graph structure\n",
    " + Map features and targets as needed between the nodes for further analysis.\n",
    " \n",
    " Matplotlib, Pandas and Networkx packages will be used for our analysis, processing and visualizations.\n",
    "\n"
   ]
  },
  {
   "cell_type": "markdown",
   "id": "07c4c350",
   "metadata": {},
   "source": [
    "Degree centrality and Eigenvector centrality will be used as per task *2* and *3* from the related project description"
   ]
  }
 ],
 "metadata": {
  "kernelspec": {
   "display_name": "Python 3 (ipykernel)",
   "language": "python",
   "name": "python3"
  },
  "language_info": {
   "codemirror_mode": {
    "name": "ipython",
    "version": 3
   },
   "file_extension": ".py",
   "mimetype": "text/x-python",
   "name": "python",
   "nbconvert_exporter": "python",
   "pygments_lexer": "ipython3",
   "version": "3.11.5"
  }
 },
 "nbformat": 4,
 "nbformat_minor": 5
}
